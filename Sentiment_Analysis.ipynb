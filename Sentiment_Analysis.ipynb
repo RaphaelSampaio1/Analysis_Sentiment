{
 "cells": [
  {
   "cell_type": "markdown",
   "metadata": {},
   "source": [
    "## I'll need to install this libraries ``pip install nltk textblob newspaper3k``"
   ]
  },
  {
   "cell_type": "code",
   "execution_count": 1,
   "metadata": {},
   "outputs": [
    {
     "name": "stdout",
     "output_type": "stream",
     "text": [
      "21 likes 24 comments\n",
      "\n",
      "Christmas Happy Romance\n",
      "\n",
      "Montgomery's chubby little body trembles with excited grunts as Poppy pushes open the door.\n",
      "\n",
      "Noticing the stylish reception area, she shushes him, feeling foolish for bringing a pug to a lawyer’s office.\n",
      "\n",
      "Still - she needs him here. He is her only remaining family and she cannot face the reading of her mother’s will without him by her side.\n",
      "\n",
      "A familiar voice rings out from the reception desk, immediately putting her at ease.\n",
      "\n",
      "“This must be the famous Montgomery! The whole town is talking about this handsome fellow.”\n",
      "\n",
      "Poppy had forgotten that her mother’s friend worked here; half-assumed the woman would be in an old-age home by now.\n",
      "\n",
      "“Auntie Reena! You’re still here!”\n",
      "\n",
      "“Of course, Poppy! Where else would I be? I tried retirement for a while but it was simply too dull.”\n",
      "\n",
      "Poppy unclips the leash and Montgomery trots over to the delighted Reena. As she fawns over the pug, Poppy admires the chic waiting room.\n",
      "\n",
      "She remembers Mr Smith – an elderly gentleman, well-liked and well-respected; a plain and practical person whose office was functional and forgettable.\n",
      "\n",
      "The new design is so unexpected that she momentarily forgets the reason for her visit.\n",
      "\n",
      "The name on the door is unchanged, but the walls are painted a luxurious shade of cream. A distressed leather sofa stands atop an antique rug, and the building’s original wooden floors lend the space a cosy rusticity.\n",
      "\n",
      "There are no baubles or shiny strings of tinsel, no singing Santa’s or dancing reindeer. Instead, Christmas time is heralded by an elegant fir tree, its evergreen branches adorned with only the soft glow of golden fairy lights.\n",
      "\n",
      "Reena notices Poppy’s surprise and chuckles.\n",
      "\n",
      "“A lot has changed since you were last here, dear girl.”\n",
      "\n",
      "Poppy nods, amazed that Mr Smith developed a passion for interior design so late in life.\n",
      "\n",
      "“It’s wonderful to see you, Auntie Reena. I hoped I’d run into you.”\n",
      "\n",
      "“We’re so sorry for your loss, Poppy. Lucille was a cherished part of our community.”\n",
      "\n",
      "Poppy nods, quietly puzzled by her mother’s insistence on involving a professional in her last wishes. Poppy was an only child; everything her mother had owned was now hers. But Lucille was adamant: Alan Smith would act as executor.\n",
      "\n",
      "Poppy arrived in Cedar Gorge a week before. Having left almost a decade ago to make a life in the city, she had never been back. Though her mother had regularly travelled to her apartment to spend time with her, she had no desire to visit the small town.\n",
      "\n",
      "She knew there were all kinds of rumours, each more glittery than the last.\n",
      "\n",
      "Contrary to the Cedar Gorge grapevine, however, Poppy’s life was far from glamorous.\n",
      "\n",
      "The guests at the boutique hotel she managed routinely had impossible demands. She worked overtime most nights, and spent any free moments compulsively checking Montgomery’s pet cam. She felt guilty about him waiting for her, hour after hour, all alone, but would inevitably get wrapped up in more drama just as she wanted to leave.\n",
      "\n",
      "She never took time off, obsessively trying to prove her worth, but finally put in leave when her mother passed away just before the holidays. Poppy could not face spending Christmas at the hotel, forcing a bright smile.\n",
      "\n",
      "She felt ashamed that everyone in Cedar Gorge was so surprised to see her, assuming she would send an assistant for so personal a task. The only thing sadder than spending the holidays boxing up her childhood home would have been asking someone else to do so, and so she had returned.\n",
      "\n",
      "She was apprehensive about seeing old friends and neighbours after so many years. At first, it was awkward, but her dear pug proved to be a chunky little barrel of magic.\n",
      "\n",
      "As neighbours arrived at her doorstep bearing kindness and casseroles, it was Montgomery’s scrunchy face, cheerful round eyes and dapper doggie outfits that started them chatting, exchanging dog stories and memories about Lucille.\n",
      "\n",
      "With his loud snorts and cartoonish farts, the black pug – always sporting his bright red bedazzled collar – was a happy little clown, promptly making friends with everyone he met.\n",
      "\n",
      "Without him, Poppy was the woman who left and never returned. The one who thought herself better than her hometown. With him, all was forgotten and she was redefined, relatable – a woman who loved her dog, a woman like everyone else.\n",
      "\n",
      "In the few days she had been back, her grief was fringed by a growing unease that she had misjudged Cedar Gorge. It may not have seemed exciting to her teenage self, but suddenly seemed quite a lovely place to the woman she had become.\n",
      "\n",
      "Waking up to the view of the river that morning, she found herself imagining what it would be like to renovate her mother’s home and run a cheery B and B, Montgomery always at her side.\n",
      "\n",
      "As her dog shamelessly dances on his hind legs, begging for titbits from Reena, Poppy sits on the soft leather sofa and blinks away tears. She wishes it was not too late to tell her mother that she was finally thankful to have spent her childhood here; that the city was never what she imagined it would be.\n",
      "\n",
      "Wondering where Mr Smith buys his furniture, Poppy regretfully remembers the countless times she derided Cedar Gorge as someplace tacky and tasteless.\n",
      "\n",
      "“Poppy Klein?”\n",
      "\n",
      "Poppy looks up, startled. She had expected old Mr. Smith in his navy cardigan and suspenders. Instead, a strikingly handsome man wearing a tailored blazer and quirky specs stands at the open office door. Poppy swallows hard, trying not to stare.\n",
      "\n",
      "Once again, she can’t help but feel foolish for assuming she could bring her dog.\n",
      "\n",
      "She stands up.\n",
      "\n",
      "\"Mr. Smith?”\n",
      "\n",
      "He smiles.\n",
      "\n",
      "“Poppy, it’s me. Alan.”\n",
      "\n",
      "She looks closer, notices a familiar dimple.\n",
      "\n",
      "“Alan? Alan Jr? AJ?”\n",
      "\n",
      "He laughs.\n",
      "\n",
      "“It’s just Alan now. No-one has called me AJ in years.”\n",
      "\n",
      "Poppy’s stomach flutters. AJ's laugh was always her favourite thing about him, and time had not changed it. There was still no bitterness to it. It was still the sound of pure sunshine.\n",
      "\n",
      "For a brief moment, she is back in high school, surprised he knows her name.\n",
      "\n",
      "“I… I thought you lived in New York?”\n",
      "\n",
      "“I did. Have been back in Cedar Gorge for about a year now. My grandfather left me his practice and it felt like the right move. I was never cut out for the big city.”\n",
      "\n",
      "Poppy gestures at his clothes, cocking her head questioningly.\n",
      "\n",
      "He grins.\n",
      "\n",
      "“Haven’t been able to shake the uniform. Guess New York will always be part of my identity.”\n",
      "\n",
      "He beckons her into the office.\n",
      "\n",
      "“I’m so sorry for your loss, Poppy. Your mother was a very special woman.”\n",
      "\n",
      "Montgomery emerges from under the reception desk and trots to Alan’s side, sniffing furiously.\n",
      "\n",
      "“I’m sorry. I’ve been taking him everywhere with me. Is it okay for Montgomery to join the meeting? I realize it’s a bit unorthodox to have a dog in a law office, especially for someone used to working in New York...\"\n",
      "\n",
      "Alan gives her an amused look as she stumbles over her words, still shocked at seeing her high school crush after so many years.\n",
      "\n",
      "“Come on in, Poppy.”\n",
      "\n",
      "As she enters his office, she feels acutely embarrassed. She wonders anew why her mother made her do this. She wishes Alan would just get the will reading over with so she can take Montgomery and leave.\n",
      "\n",
      "The office, like the reception, is a study in simple elegance. As her eyes glide over the bespoke furnishings, she gasps in delighted surprise as a pug that could be Montgomery’s twin jumps up against her boots.\n",
      "\n",
      "As Montgomery barks a happy hello at his lookalike, Alan smiles again.\n",
      "\n",
      "\"Meet Roberta. She comes to work with me every day.”\n",
      "\n",
      "Poppy can’t help but blush as Alan continues.\n",
      "\n",
      "“I suspect Lucille thought the four of us might just become great friends.”\n"
     ]
    }
   ],
   "source": [
    "from textblob import TextBlob\n",
    "from newspaper import Article\n",
    "import nltk\n",
    "# nltk.download('punkt_tab')\n",
    "\n",
    "url = 'https://blog.reedsy.com/short-story/0y7dum/'\n",
    "\n",
    "\n",
    "article = Article(url) # recognition of the article\n",
    "article.download()  # download of the article \n",
    "\n",
    "article.parse() # recognize the article downloaded (abstract, creator, title...)\n",
    "article.nlp()\n",
    "\n",
    "text =  article.text\n",
    "\n",
    "print(text)"
   ]
  },
  {
   "cell_type": "markdown",
   "metadata": {},
   "source": [
    "## Using the ``TextBlob``"
   ]
  },
  {
   "cell_type": "code",
   "execution_count": 2,
   "metadata": {},
   "outputs": [
    {
     "name": "stdout",
     "output_type": "stream",
     "text": [
      "0.131982086489899\n"
     ]
    }
   ],
   "source": [
    "blob = TextBlob(text)\n",
    "sentiments = blob.sentiment.polarity #-1 = bad || 1 = good\n",
    "print(sentiments)"
   ]
  },
  {
   "cell_type": "code",
   "execution_count": 3,
   "metadata": {},
   "outputs": [
    {
     "name": "stdout",
     "output_type": "stream",
     "text": [
      "0.131982086489899\n"
     ]
    }
   ],
   "source": [
    "from textblob import TextBlob\n",
    "\n",
    "with open('text.txt') as f:\n",
    "    text = f.read()\n",
    "\n",
    "blob = TextBlob(text)\n",
    "sentim3ents = blob.sentiment.polarity\n",
    "print(sentiments)"
   ]
  }
 ],
 "metadata": {
  "kernelspec": {
   "display_name": "Python 3",
   "language": "python",
   "name": "python3"
  },
  "language_info": {
   "codemirror_mode": {
    "name": "ipython",
    "version": 3
   },
   "file_extension": ".py",
   "mimetype": "text/x-python",
   "name": "python",
   "nbconvert_exporter": "python",
   "pygments_lexer": "ipython3",
   "version": "3.8.0"
  }
 },
 "nbformat": 4,
 "nbformat_minor": 2
}
